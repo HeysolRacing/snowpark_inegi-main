{
 "cells": [
  {
   "cell_type": "code",
   "execution_count": 10,
   "metadata": {},
   "outputs": [],
   "source": [
    "#Importar librerias\n",
    "from snowflake.snowpark.session import Session\n",
    "from config import connection_parameters\n",
    "from ingesta import ingesta_setup,fileEntry\n",
    "import os"
   ]
  },
  {
   "cell_type": "code",
   "execution_count": 11,
   "metadata": {},
   "outputs": [
    {
     "name": "stdout",
     "output_type": "stream",
     "text": [
      "Conectado\n",
      "[Row(CURRENT_WAREHOUSE()='INEGI_WH', CURRENT_DATABASE()='INEGI', CURRENT_ROLE()='INEGI_ROLE')]\n"
     ]
    }
   ],
   "source": [
    "#Definir sesión y objetos Snowflake\n",
    "sesion = Session.builder.configs(connection_parameters).create()\n",
    "if sesion != None:\n",
    "    print(\"Conectado\")\n",
    "    sesion.use_database('inegi')\n",
    "    print(sesion.sql(\"select current_warehouse(), current_database(), current_role()\").collect()) \n",
    "\n",
    "else:\n",
    "    print(\"Error de conexión\")"
   ]
  },
  {
   "cell_type": "code",
   "execution_count": 12,
   "metadata": {},
   "outputs": [
    {
     "data": {
      "text/plain": [
       "[Row(status='Statement executed successfully. 0 objects affected.')]"
      ]
     },
     "execution_count": 12,
     "metadata": {},
     "output_type": "execute_result"
    }
   ],
   "source": [
    "#Activación de objetos Snowflake\n",
    "sesion.use_role(connection_parameters['role'])\n",
    "#database\n",
    "sesion.sql(\"grant all privileges on database \"+connection_parameters['database']+ \" to role \"+connection_parameters['role'] +\";\").collect()\n",
    "sesion.use_database(connection_parameters['database'])\n",
    "sesion.use_schema(connection_parameters['schema'])\n",
    "\n",
    "#warehouse\n",
    "sesion.sql(\"grant usage on warehouse \"+connection_parameters['warehouse']+\" to role \"+connection_parameters['role'] +\";\").collect()\n",
    "sesion.use_warehouse(connection_parameters['warehouse'])\n",
    "#Schema\n",
    "sesion.sql(\"grant all privileges on schema \"+connection_parameters['schema']+\" to role \"+connection_parameters['role'] +\";\").collect()\n",
    "sesion.sql(\"grant create stage on schema \" +connection_parameters['schema']+\" to role inegi_role;\").collect()\n",
    "\n",
    "#creación de tabla RAW\n",
    "sesion.sql(\"create or replace table inegi_raw (v VARIANT);\").collect()\n",
    "sesion.sql(\"grant select on all tables in schema \"+connection_parameters['schema']+\" to role \"+connection_parameters['role'] +\";\").collect()\n",
    "sesion.sql(\"grant select on all views in schema \"+connection_parameters['schema']+\" to role \"+connection_parameters['role'] +\";\").collect()\n"
   ]
  },
  {
   "cell_type": "code",
   "execution_count": 13,
   "metadata": {},
   "outputs": [
    {
     "name": "stdout",
     "output_type": "stream",
     "text": [
      "UPLOADED\n",
      "UPLOADED\n",
      "UPLOADED\n",
      "UPLOADED\n",
      "UPLOADED\n",
      "UPLOADED\n",
      "UPLOADED\n",
      "UPLOADED\n",
      "UPLOADED\n"
     ]
    }
   ],
   "source": [
    "#Crear internal Stage\n",
    "env = ingesta_setup()\n",
    "sesion.sql('CREATE STAGE IF NOT EXISTS '+ env['snowstage']).collect()\n",
    "#Carga de archivos\n",
    "archivos_dir = os.path.join(os.getcwd(),'JSON')\n",
    "archivos = fileEntry(archivos_dir)\n",
    "\n",
    "for file in archivos:\n",
    "    put_result = sesion.file.put('file:///' + file , '@' + env['snowstage'])\n",
    "    print(put_result[0].status)\n",
    "file = os.path.join(os.getcwd(),'entidad.py') \n",
    "put_result = sesion.file.put('file:///' + file , '@' + env['snowstage'], auto_compress= False, overwrite=True)\n",
    "print(put_result[0].status)\n"
   ]
  },
  {
   "cell_type": "code",
   "execution_count": 14,
   "metadata": {},
   "outputs": [
    {
     "name": "stdout",
     "output_type": "stream",
     "text": [
      "Transforming...\n",
      "Transformación Completado\n"
     ]
    }
   ],
   "source": [
    "#Transforming into a Snowflake object (table) \n",
    "print(\"Transforming...\")\n",
    "sesion.sql(\"create or replace file format json type = json;\").collect()\n",
    "sesion.sql(\"copy into inegi_raw from @\" + env['snowstage'] + \" file_format = json pattern = '.*inegi[1-8].json.gz';\").collect()\n",
    "print(\"Transformación Completado\")"
   ]
  },
  {
   "cell_type": "code",
   "execution_count": 15,
   "metadata": {},
   "outputs": [
    {
     "name": "stdout",
     "output_type": "stream",
     "text": [
      "Sesión terminada\n"
     ]
    }
   ],
   "source": [
    "sesion.close()\n",
    "print(\"Sesión terminada\")"
   ]
  }
 ],
 "metadata": {
  "kernelspec": {
   "display_name": "Python 3.8.13 ('snowpark_env')",
   "language": "python",
   "name": "python3"
  },
  "language_info": {
   "codemirror_mode": {
    "name": "ipython",
    "version": 3
   },
   "file_extension": ".py",
   "mimetype": "text/x-python",
   "name": "python",
   "nbconvert_exporter": "python",
   "pygments_lexer": "ipython3",
   "version": "3.8.16"
  },
  "orig_nbformat": 4,
  "vscode": {
   "interpreter": {
    "hash": "d02ed8ebcaf737aa77f4daf707421e72280383db8c31fc293f4cc947da23ff29"
   }
  }
 },
 "nbformat": 4,
 "nbformat_minor": 2
}
