{
 "cells": [
  {
   "cell_type": "code",
   "execution_count": 1,
   "metadata": {},
   "outputs": [
    {
     "name": "stdout",
     "output_type": "stream",
     "text": [
      "Connecting to API...\n",
      "Connection established!\n",
      "Downloaded!\n",
      "File in directory...OK\n",
      "Unzipped\n",
      "CSV created!\n",
      "c:\\Users\\62600\\Documents\\Hsagaon\\Snowflake\\Projects\\snowpark_inegi-main\n",
      "Total rows: 189432\n",
      "Limit: 27061\n",
      "Difference: 5\n",
      "Iniciando conversion: \n",
      "JSON c:\\Users\\62600\\Documents\\Hsagaon\\Snowflake\\Projects\\snowpark_inegi-main\\JSON/inegi1.json created!\n",
      "JSON c:\\Users\\62600\\Documents\\Hsagaon\\Snowflake\\Projects\\snowpark_inegi-main\\JSON/inegi2.json created!\n",
      "JSON c:\\Users\\62600\\Documents\\Hsagaon\\Snowflake\\Projects\\snowpark_inegi-main\\JSON/inegi3.json created!\n",
      "JSON c:\\Users\\62600\\Documents\\Hsagaon\\Snowflake\\Projects\\snowpark_inegi-main\\JSON/inegi4.json created!\n",
      "JSON c:\\Users\\62600\\Documents\\Hsagaon\\Snowflake\\Projects\\snowpark_inegi-main\\JSON/inegi5.json created!\n",
      "JSON c:\\Users\\62600\\Documents\\Hsagaon\\Snowflake\\Projects\\snowpark_inegi-main\\JSON/inegi6.json created!\n",
      "JSON c:\\Users\\62600\\Documents\\Hsagaon\\Snowflake\\Projects\\snowpark_inegi-main\\JSON/inegi7.json created!\n",
      "JSON c:\\Users\\62600\\Documents\\Hsagaon\\Snowflake\\Projects\\snowpark_inegi-main\\JSON/inegi8.json created!\n",
      "JSON partitioned!\n",
      "Local ready!\n"
     ]
    }
   ],
   "source": [
    "#Script para ejección de descarga de archivo y realizar transformaciones (Split a JSON)\n",
    "from inegidata import urlDownload\n",
    "# opción 'remote' para descarga desde webhost de INEGI\n",
    "# opciób 'local' para descompresión desde repo local\n",
    "urlDownload('remote')"
   ]
  },
  {
   "cell_type": "code",
   "execution_count": null,
   "metadata": {},
   "outputs": [
    {
     "name": "stdout",
     "output_type": "stream",
     "text": [
      "Connecting to API...\n",
      "Connection established!\n",
      "Downloaded!\n",
      "File in directory...OK\n",
      "Unzipped\n",
      "CSV created!\n",
      "c:\\Users\\62600\\Documents\\Hsagaon\\Snowflake\\Projects\\snowpark_inegi-main\n",
      "Total rows: 189432\n",
      "Limit: 27061\n",
      "Difference: 5\n",
      "Iniciando conversion: \n",
      "JSON c:\\Users\\62600\\Documents\\Hsagaon\\Snowflake\\Projects\\snowpark_inegi-main\\JSON/inegi1.json created!\n",
      "JSON c:\\Users\\62600\\Documents\\Hsagaon\\Snowflake\\Projects\\snowpark_inegi-main\\JSON/inegi2.json created!\n",
      "JSON c:\\Users\\62600\\Documents\\Hsagaon\\Snowflake\\Projects\\snowpark_inegi-main\\JSON/inegi3.json created!\n",
      "JSON c:\\Users\\62600\\Documents\\Hsagaon\\Snowflake\\Projects\\snowpark_inegi-main\\JSON/inegi4.json created!\n",
      "JSON c:\\Users\\62600\\Documents\\Hsagaon\\Snowflake\\Projects\\snowpark_inegi-main\\JSON/inegi5.json created!\n",
      "JSON c:\\Users\\62600\\Documents\\Hsagaon\\Snowflake\\Projects\\snowpark_inegi-main\\JSON/inegi6.json created!\n",
      "JSON c:\\Users\\62600\\Documents\\Hsagaon\\Snowflake\\Projects\\snowpark_inegi-main\\JSON/inegi7.json created!\n",
      "JSON c:\\Users\\62600\\Documents\\Hsagaon\\Snowflake\\Projects\\snowpark_inegi-main\\JSON/inegi8.json created!\n",
      "JSON partitioned!\n",
      "Local ready!\n"
     ]
    }
   ],
   "source": [
    "#Script para ejección de descarga de archivo y realizar transformaciones (Split a JSON)\n",
    "from inegidata import urlDownload\n",
    "# opción 'remote' para descarga desde webhost de INEGI\n",
    "# opciób 'local' para descompresión desde repo local\n",
    "urlDownload('remote')"
   ]
  },
  {
   "cell_type": "code",
   "execution_count": null,
   "metadata": {},
   "outputs": [
    {
     "name": "stdout",
     "output_type": "stream",
     "text": [
      "Connecting to API...\n",
      "Connection established!\n",
      "Downloaded!\n",
      "File in directory...OK\n",
      "Unzipped\n",
      "CSV created!\n",
      "c:\\Users\\62600\\Documents\\Hsagaon\\Snowflake\\Projects\\snowpark_inegi-main\n",
      "Total rows: 189432\n",
      "Limit: 27061\n",
      "Difference: 5\n",
      "Iniciando conversion: \n",
      "JSON c:\\Users\\62600\\Documents\\Hsagaon\\Snowflake\\Projects\\snowpark_inegi-main\\JSON/inegi1.json created!\n",
      "JSON c:\\Users\\62600\\Documents\\Hsagaon\\Snowflake\\Projects\\snowpark_inegi-main\\JSON/inegi2.json created!\n",
      "JSON c:\\Users\\62600\\Documents\\Hsagaon\\Snowflake\\Projects\\snowpark_inegi-main\\JSON/inegi3.json created!\n",
      "JSON c:\\Users\\62600\\Documents\\Hsagaon\\Snowflake\\Projects\\snowpark_inegi-main\\JSON/inegi4.json created!\n",
      "JSON c:\\Users\\62600\\Documents\\Hsagaon\\Snowflake\\Projects\\snowpark_inegi-main\\JSON/inegi5.json created!\n",
      "JSON c:\\Users\\62600\\Documents\\Hsagaon\\Snowflake\\Projects\\snowpark_inegi-main\\JSON/inegi6.json created!\n",
      "JSON c:\\Users\\62600\\Documents\\Hsagaon\\Snowflake\\Projects\\snowpark_inegi-main\\JSON/inegi7.json created!\n",
      "JSON c:\\Users\\62600\\Documents\\Hsagaon\\Snowflake\\Projects\\snowpark_inegi-main\\JSON/inegi8.json created!\n",
      "JSON partitioned!\n",
      "Local ready!\n"
     ]
    }
   ],
   "source": [
    "#Script para ejección de descarga de archivo y realizar transformaciones (Split a JSON)\n",
    "from inegidata import urlDownload\n",
    "# opción 'remote' para descarga desde webhost de INEGI\n",
    "# opciób 'local' para descompresión desde repo local\n",
    "urlDownload('remote')"
   ]
  }
 ],
 "metadata": {
  "kernelspec": {
   "display_name": "Python 3.8.13 ('snowpark_env')",
   "language": "python",
   "name": "python3"
  },
  "language_info": {
   "codemirror_mode": {
    "name": "ipython",
    "version": 3
   },
   "file_extension": ".py",
   "mimetype": "text/x-python",
   "name": "python",
   "nbconvert_exporter": "python",
   "pygments_lexer": "ipython3",
   "version": "3.8.16"
  },
  "orig_nbformat": 4,
  "vscode": {
   "interpreter": {
    "hash": "d02ed8ebcaf737aa77f4daf707421e72280383db8c31fc293f4cc947da23ff29"
   }
  }
 },
 "nbformat": 4,
 "nbformat_minor": 2
}
