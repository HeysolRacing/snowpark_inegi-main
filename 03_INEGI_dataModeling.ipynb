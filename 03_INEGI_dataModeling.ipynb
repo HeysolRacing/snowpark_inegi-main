{
 "cells": [
  {
   "cell_type": "code",
   "execution_count": 8,
   "metadata": {},
   "outputs": [],
   "source": [
    "from snowflake.snowpark.session import Session\n",
    "from snowflake.snowpark.functions import udf\n",
    "from snowflake.snowpark.types import StringType\n",
    "from snowflake.snowpark.types import IntegerType\n",
    "from config import connection_parameters\n"
   ]
  },
  {
   "cell_type": "code",
   "execution_count": 9,
   "metadata": {},
   "outputs": [
    {
     "name": "stdout",
     "output_type": "stream",
     "text": [
      "Conectado\n",
      "[Row(CURRENT_WAREHOUSE()='INEGI_WH', CURRENT_DATABASE()='INEGI', CURRENT_ROLE()='INEGI_ROLE')]\n"
     ]
    }
   ],
   "source": [
    "#Definir sesión y objetos Snowflake\n",
    "sesion = Session.builder.configs(connection_parameters).create()\n",
    "if sesion != None:\n",
    "    print(\"Connection established!\")\n",
    "    sesion.use_database('inegi')\n",
    "    print(sesion.sql(\"select current_warehouse(), current_database(), current_role()\").collect()) \n",
    "else:\n",
    "    print(\"Connection error!\")"
   ]
  },
  {
   "cell_type": "code",
   "execution_count": 10,
   "metadata": {},
   "outputs": [
    {
     "data": {
      "text/plain": [
       "[Row(status='View INEGI_DATA successfully created.')]"
      ]
     },
     "execution_count": 10,
     "metadata": {},
     "output_type": "execute_result"
    }
   ],
   "source": [
    "#Create INEGI_DATA view \n",
    "query = \"create or replace  view INEGI_DATA as select \" + \\\n",
    " \"v:ENTIDAD::int as entidad,\" + \\\n",
    " \"v:MUN::int as municipio,\" + \\\n",
    " \"v:NOM_MUN::string as nom_municipio,\" + \\\n",
    " \"v:LOC::string as localidad,\" + \\\n",
    " \"v:NOM_LOC::string as nom_localidad,\" + \\\n",
    " \"v:LONGITUD::float as longitud,\" + \\\n",
    " \"v:LATITUD::float as latitud,\" + \\\n",
    " \"v:ALTITUD::int as altitud,\" + \\\n",
    " \"v:POBTOT::int as pob_total,\" + \\\n",
    " \"v:POBFEM::int as pob_fem,\" + \\\n",
    " \"v:POBMAS::int as pob_masc,\" + \\\n",
    " \"v:PCON_DISC::int as pob_discapacidad,\" + \\\n",
    " \"v:GRAPROES::int as pob_escolaridad,\" + \\\n",
    " \"v:GRAPROES_F::int as pob_esco_fem,\" + \\\n",
    " \"v:GRAPROES_M::int as pob_esco_masc,\" + \\\n",
    " \"v:PSINDER::int as pob_sssalud,\" + \\\n",
    " \"v:PDER_SS::int as pob_cssalud,\" + \\\n",
    " \"v:VIVTOT::int as total_vivienda,\" + \\\n",
    " \"v:TVIVHAB::int total_habitada,\" + \\\n",
    " \"v:VPH_INTER::int as hab_internet \" + \\\n",
    " \"from INEGI_RAW;\"\n",
    "sesion.sql(query).collect()\n",
    "\n"
   ]
  },
  {
   "cell_type": "code",
   "execution_count": 11,
   "metadata": {},
   "outputs": [],
   "source": [
    "#UDF Declare\n",
    "entidad_udf = sesion.udf.register_from_file(file_path='@inegi/entidad.py',func_name='nom_entity',return_type=StringType(),input_types=[IntegerType()],is_permanent=True, name=\"nom_entity\",stage_location=\"@inegi\")"
   ]
  },
  {
   "cell_type": "code",
   "execution_count": 12,
   "metadata": {},
   "outputs": [
    {
     "data": {
      "text/plain": [
       "[Row(status='View INEGI_MAPA successfully created.')]"
      ]
     },
     "execution_count": 12,
     "metadata": {},
     "output_type": "execute_result"
    }
   ],
   "source": [
    "#View with totals per entity applying UDF to convert entity number x entity name.\n",
    "viewquery = \"CREATE OR REPLACE VIEW INEGI_MAPA AS \" + \\\n",
    "\" WITH poblacion_lat AS ( SELECT latitud AS latitude, longitud AS longitude, nom_entity(entidad) as nom_entity,\" + \\\n",
    "\" ROW_NUMBER() OVER(PARTITION BY nom_entity ORDER BY nom_entity DESC) AS row_number FROM INEGI_DATA),\" + \\\n",
    "\" poblacion_t AS ( SELECT sum(pob_total) AS poblacion_total,nom_entity(entidad) AS nom_entity FROM INEGI_DATA \" + \\\n",
    "\" GROUP BY entidad ORDER BY poblacion_total DESC )\" + \\\n",
    "\" SELECT pl.nom_entity,pt.poblacion_total AS total_population, pl.latitude, pl.longitude\" + \\\n",
    "\" FROM poblacion_lat pl LEFT JOIN poblacion_t pt ON pl.nom_entity = pt.nom_entity\" + \\\n",
    "\" WHERE row_number = 1;\"\n",
    "sesion.sql(viewquery).collect()"
   ]
  },
  {
   "cell_type": "code",
   "execution_count": 13,
   "metadata": {},
   "outputs": [
    {
     "name": "stdout",
     "output_type": "stream",
     "text": [
      "----------------------------------------------------------------------------------------\n",
      "|\"NOM_ENTITY\"          |\"TOTAL_POPULATION\"  |\"LATITUDE\"          |\"LONGITUDE\"          |\n",
      "----------------------------------------------------------------------------------------\n",
      "|TLAXCALA              |1342977             |19.605128611111112  |-98.15592555555556   |\n",
      "|SINALOA               |3026943             |23.55150777777778   |-106.24352694444444  |\n",
      "|MEXICO                |16992418            |19.416123055555556  |-98.99091277777778   |\n",
      "|OAXACA                |4132148             |16.382993333333335  |-95.00850444444444   |\n",
      "|PUEBLA                |6583278             |18.643517499999998  |-97.84966444444444   |\n",
      "|COAHUILA DE ZARAGOZA  |3146771             |27.595691666666667  |-103.58616083333332  |\n",
      "|TABASCO               |2402598             |17.951661666666666  |-92.91535027777779   |\n",
      "|QUERETARO DE ARTEAGA  |2368467             |21.21680222222222   |-99.47291083333333   |\n",
      "|BAJA CALIFORNIA SUR   |798447              |23.378812222222223  |-110.15720583333334  |\n",
      "|DURANGO               |1832650             |25.084638888888886  |-105.28941166666667  |\n",
      "----------------------------------------------------------------------------------------\n",
      "\n"
     ]
    }
   ],
   "source": [
    "#Data validation with Dataframe\n",
    "df_entidad = sesion.table(\"INEGI_MAPA\")\n",
    "df_entidad.show()"
   ]
  },
  {
   "cell_type": "code",
   "execution_count": 14,
   "metadata": {},
   "outputs": [],
   "source": [
    "sesion.close()"
   ]
  }
 ],
 "metadata": {
  "kernelspec": {
   "display_name": "Python 3.8.13 ('snowpark_env')",
   "language": "python",
   "name": "python3"
  },
  "language_info": {
   "codemirror_mode": {
    "name": "ipython",
    "version": 3
   },
   "file_extension": ".py",
   "mimetype": "text/x-python",
   "name": "python",
   "nbconvert_exporter": "python",
   "pygments_lexer": "ipython3",
   "version": "3.8.16"
  },
  "orig_nbformat": 4,
  "vscode": {
   "interpreter": {
    "hash": "d02ed8ebcaf737aa77f4daf707421e72280383db8c31fc293f4cc947da23ff29"
   }
  }
 },
 "nbformat": 4,
 "nbformat_minor": 2
}
