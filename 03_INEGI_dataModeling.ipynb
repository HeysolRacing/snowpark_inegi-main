{
 "cells": [
  {
   "cell_type": "code",
   "execution_count": null,
   "metadata": {},
   "outputs": [],
   "source": [
    "from snowflake.snowpark.session import Session\n",
    "from snowflake.snowpark.functions import udf\n",
    "from snowflake.snowpark.types import StringType\n",
    "from snowflake.snowpark.types import IntegerType\n",
    "from config import connection_parameters\n"
   ]
  },
  {
   "cell_type": "code",
   "execution_count": null,
   "metadata": {},
   "outputs": [],
   "source": [
    "#Definir sesión y objetos Snowflake\n",
    "sesion = Session.builder.configs(connection_parameters).create()\n",
    "if sesion != None:\n",
    "    print(\"Conectado\")\n",
    "    sesion.use_database('inegi')\n",
    "    print(sesion.sql(\"select current_warehouse(), current_database(), current_role()\").collect()) \n",
    "else:\n",
    "    print(\"Error de conexión\")"
   ]
  },
  {
   "cell_type": "code",
   "execution_count": null,
   "metadata": {},
   "outputs": [],
   "source": [
    "#Crear vista \n",
    "query = \"create or replace  view INEGI_DATA as select \" + \\\n",
    " \"v:ENTIDAD::int as entidad,\" + \\\n",
    " \"v:MUN::int as municipio,\" + \\\n",
    " \"v:NOM_MUN::string as nom_municipio,\" + \\\n",
    " \"v:LOC::string as localidad,\" + \\\n",
    " \"v:NOM_LOC::string as nom_localidad,\" + \\\n",
    " \"v:LONGITUD::float as longitud,\" + \\\n",
    " \"v:LATITUD::float as latitud,\" + \\\n",
    " \"v:ALTITUD::int as altitud,\" + \\\n",
    " \"v:POBTOT::int as pob_total,\" + \\\n",
    " \"v:POBFEM::int as pob_fem,\" + \\\n",
    " \"v:POBMAS::int as pob_masc,\" + \\\n",
    " \"v:PCON_DISC::int as pob_discapacidad,\" + \\\n",
    " \"v:GRAPROES::int as pob_escolaridad,\" + \\\n",
    " \"v:GRAPROES_F::int as pob_esco_fem,\" + \\\n",
    " \"v:GRAPROES_M::int as pob_esco_masc,\" + \\\n",
    " \"v:PSINDER::int as pob_sssalud,\" + \\\n",
    " \"v:PDER_SS::int as pob_cssalud,\" + \\\n",
    " \"v:VIVTOT::int as total_vivienda,\" + \\\n",
    " \"v:TVIVHAB::int total_habitada,\" + \\\n",
    " \"v:VPH_INTER::int as hab_internet \" + \\\n",
    " \"from INEGI_RAW;\"\n",
    "sesion.sql(query).collect()\n",
    "\n"
   ]
  },
  {
   "cell_type": "code",
   "execution_count": null,
   "metadata": {},
   "outputs": [],
   "source": [
    "#UDF declaración\n",
    "entidad_udf = sesion.udf.register_from_file(file_path='@inegi/entidad.py',func_name='nom_entity',return_type=StringType(),input_types=[IntegerType()],is_permanent=True, name=\"nom_entity\",stage_location=\"@inegi\")"
   ]
  },
  {
   "cell_type": "code",
   "execution_count": 13,
   "metadata": {},
   "outputs": [
    {
     "data": {
      "text/plain": [
       "[Row(status='View INEGI_MAPA successfully created.')]"
      ]
     },
     "execution_count": 13,
     "metadata": {},
     "output_type": "execute_result"
    }
   ],
   "source": [
    "#Vista con totales por entidad aplicando UDF para convertir número de entidad x nombre entidad\n",
    "viewquery = \"CREATE OR REPLACE VIEW INEGI_MAPA AS \" + \\\n",
    "\" WITH poblacion_lat AS ( SELECT latitud AS latitude, longitud AS longitude, nom_entity(entidad) as nom_entity,\" + \\\n",
    "\" ROW_NUMBER() OVER(PARTITION BY nom_entity ORDER BY nom_entity DESC) AS row_number FROM INEGI_DATA),\" + \\\n",
    "\" poblacion_t AS ( SELECT sum(pob_total) AS poblacion_total,nom_entity(entidad) AS nom_entity FROM INEGI_DATA \" + \\\n",
    "\" GROUP BY entidad ORDER BY poblacion_total DESC )\" + \\\n",
    "\" SELECT pl.nom_entity,pt.poblacion_total AS total_population, pl.latitude, pl.longitude\" + \\\n",
    "\" FROM poblacion_lat pl LEFT JOIN poblacion_t pt ON pl.nom_entity = pt.nom_entity\" + \\\n",
    "\" WHERE row_number = 1;\"\n",
    "sesion.sql(viewquery).collect()"
   ]
  },
  {
   "cell_type": "code",
   "execution_count": 14,
   "metadata": {},
   "outputs": [
    {
     "name": "stdout",
     "output_type": "stream",
     "text": [
      "----------------------------------------------------------------------------------------\n",
      "|\"NOM_ENTITY\"          |\"TOTAL_POPULATION\"  |\"LATITUDE\"          |\"LONGITUDE\"          |\n",
      "----------------------------------------------------------------------------------------\n",
      "|BAJA CALIFORNIA SUR   |798447              |23.466304166666667  |-109.72155111111111  |\n",
      "|DURANGO               |1832650             |23.07258638888889   |-104.96738694444444  |\n",
      "|OAXACA                |4132148             |17.465217777777777  |-95.23456138888889   |\n",
      "|PUEBLA                |6583278             |20.03848888888889   |-97.27450888888889   |\n",
      "|SAN LUIS POTOSI       |2822255             |22.18987111111111   |-98.4165488888889    |\n",
      "|TLAXCALA              |1342977             |19.404180277777776  |-98.04882305555556   |\n",
      "|COAHUILA DE ZARAGOZA  |3146771             |25.794352777777778  |-103.08951666666667  |\n",
      "|BAJA CALIFORNIA       |3769020             |30.096982777777775  |-115.6571538888889   |\n",
      "|SONORA                |2944840             |27.601721944444446  |-109.89841583333335  |\n",
      "|TAMAULIPAS            |3527735             |23.68985222222222   |-99.11164777777778   |\n",
      "----------------------------------------------------------------------------------------\n",
      "\n"
     ]
    }
   ],
   "source": [
    "#Validar la vista solo con totales por entidad\n",
    "df_entidad = sesion.table(\"INEGI_MAPA\")\n",
    "df_entidad.show()"
   ]
  },
  {
   "cell_type": "code",
   "execution_count": null,
   "metadata": {},
   "outputs": [],
   "source": [
    "sesion.close()"
   ]
  }
 ],
 "metadata": {
  "kernelspec": {
   "display_name": "Python 3.8.13 ('snowpark_env')",
   "language": "python",
   "name": "python3"
  },
  "language_info": {
   "codemirror_mode": {
    "name": "ipython",
    "version": 3
   },
   "file_extension": ".py",
   "mimetype": "text/x-python",
   "name": "python",
   "nbconvert_exporter": "python",
   "pygments_lexer": "ipython3",
   "version": "3.8.16"
  },
  "orig_nbformat": 4,
  "vscode": {
   "interpreter": {
    "hash": "d02ed8ebcaf737aa77f4daf707421e72280383db8c31fc293f4cc947da23ff29"
   }
  }
 },
 "nbformat": 4,
 "nbformat_minor": 2
}
